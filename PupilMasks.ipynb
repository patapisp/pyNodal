{
 "cells": [
  {
   "cell_type": "markdown",
   "metadata": {},
   "source": [
    "# Entrance Pupil Masks"
   ]
  },
  {
   "cell_type": "code",
   "execution_count": 19,
   "metadata": {
    "collapsed": false
   },
   "outputs": [],
   "source": [
    "import numpy as np\n",
    "import matplotlib.pyplot as plt\n",
    "from astropy.io import fits\n",
    "import time\n",
    "% matplotlib inline"
   ]
  },
  {
   "cell_type": "markdown",
   "metadata": {},
   "source": [
    "## Utility functions"
   ]
  },
  {
   "cell_type": "code",
   "execution_count": 26,
   "metadata": {
    "collapsed": true
   },
   "outputs": [],
   "source": [
    "def cart2pol(x,y):\n",
    "    \"\"\"\n",
    "    Takes cartesian (2D) coordinates and transforms them into polar.\n",
    "    \"\"\"\n",
    "    rho = np.sqrt(x**2 + y**2)\n",
    "    phi = np.arctan2(y, x)\n",
    "    return(rho, phi)\n",
    "\n",
    "def pol2cart(rho, phi):\n",
    "    \"\"\"\n",
    "    Takes polar coordinates and transforms them into cartesian.\n",
    "    \"\"\"\n",
    "    x = rho * np.cos(phi)\n",
    "    y = rho * np.sin(phi)\n",
    "    return(x, y)"
   ]
  },
  {
   "cell_type": "markdown",
   "metadata": {},
   "source": [
    "## Elliptical Pupil"
   ]
  },
  {
   "cell_type": "code",
   "execution_count": 32,
   "metadata": {
    "collapsed": true
   },
   "outputs": [],
   "source": [
    "def make_elliptical_pupil(N, aspect_ratio, a, write=False, plot=False):\n",
    "    \"\"\"\n",
    "    Make an elliptical pupil on a NxN grid with semi-major axis a and semi-minor axis b=aspect_ratio*a\n",
    "    Set :param write: to True in order to save the pupil in a fits file.\n",
    "    \"\"\"\n",
    "    b = a*aspect_ratio\n",
    "    x = np.arange(-N/2, N/2)\n",
    "    y = np.arange(-N/2, N/2)\n",
    "    X, Y = np.meshgrid(x,y)\n",
    "    pupil = np.exp(-np.sqrt((X/a)**2 + (Y/b)**2)**1000)\n",
    "    if write:\n",
    "        if a != b:\n",
    "            hdu = fits.PrimaryHDU(data=pupil)\n",
    "            hdu.header['TYPE']= 'pupil'\n",
    "            hdu.header['SHAPE']= 'ellipse'\n",
    "            hdu.header['MAJ_AX'] = str(a)\n",
    "            hdu.header['MIN_AX'] = str(b)\n",
    "            hdu.header['DATE'] = time.strftime(\"%d/%m/%Y\")\n",
    "            hdu.writeto(\"Ellipse_pupil_N=%i_a=%.1f_b=%.1f.fits\" % (N, a, b))\n",
    "        elif a == b:\n",
    "            hdu = fits.PrimaryHDU(data=pupil)\n",
    "            hdu.header['TYPE']= 'pupil'\n",
    "            hdu.header['SHAPE']= 'circle'\n",
    "            hdu.header['RADIUS'] = str(a)\n",
    "            hdu.header['DATE'] = time.strftime(\"%d/%m/%Y\")\n",
    "            hdu.writeto(\"Circular_pupil_N=%i_R=%.1f.fits\" % (N, a))\n",
    "    if plot:\n",
    "        plt.imshow(pupil, interpolation='nearest', cmap='gray')\n",
    "        plt.colorbar()\n",
    "    return"
   ]
  },
  {
   "cell_type": "markdown",
   "metadata": {},
   "source": [
    "## VLT Pupil\n",
    "Pupil mask of the VLT telescope"
   ]
  },
  {
   "cell_type": "code",
   "execution_count": 36,
   "metadata": {
    "collapsed": true
   },
   "outputs": [],
   "source": [
    "def make_VLT_pupil(N, apRad, write=False, plot=False):\n",
    "    \"\"\"\n",
    "    Make a pupil simulating that from the VLT telescope on a NxN grid.\n",
    "    \"\"\"\n",
    "    Rin = apRad*0.15 # inner radius \n",
    "    sp_width = apRad*0.01 # spider width\n",
    "    x = np.arange(-N/2, N/2)\n",
    "    y = np.arange(-N/2, N/2)\n",
    "    X, Y = np.meshgrid(x,y)\n",
    "    Rho, Theta = cart2pol(X,Y)\n",
    "    spider1 = 1 - np.exp(-((1/(1-np.sqrt(2)*Rin/apRad)*(X-Rin)+Y)/sp_width)**6)\n",
    "    spider2 = 1 - np.exp(-((-1/(1-np.sqrt(2)*Rin/apRad)*(X-Rin)+Y)/sp_width)**6)\n",
    "    spider3 = 1 - np.exp(-((1/(1-np.sqrt(2)*Rin/apRad)*(-X-Rin)+Y)/sp_width)**6)\n",
    "    spider4 = 1 - np.exp(-((-1/(1-np.sqrt(2)*Rin/apRad)*(-X-Rin)+Y)/sp_width)**6)\n",
    "    \n",
    "    spider1[X<Rin] = 1 \n",
    "    spider2[X<Rin] = 1\n",
    "    spider3[X>-Rin] = 1 \n",
    "    spider4[X>-Rin] = 1\n",
    "    \n",
    "    VLTpupil = (np.exp(-(Rho/apRad)**1000) - np.exp(-(Rho/Rin)**200))*spider1*spider2*spider3*spider4\n",
    "    \n",
    "    if write:\n",
    "        hdu = fits.PrimaryHDU(data=VLTpupil)\n",
    "        hdu.header['TYPE']= 'pupil'\n",
    "        hdu.header['SHAPE']= 'VLT'\n",
    "        hdu.header['AP_RAD'] = str(apRad)\n",
    "        hdu.header['R_IN'] = str(Rin)\n",
    "        hdu.header['SP_WID'] = str(sp_width)\n",
    "        hdu.header['DATE'] = time.strftime(\"%d/%m/%Y\")\n",
    "        hdu.writeto(\"VLT_pupil_N=%i_apRad_%.1f.fits\" % (N, apRad))\n",
    "    if plot:\n",
    "        plt.imshow(VLTpupil, interpolation='nearest', cmap='gray')\n",
    "        plt.colorbar()\n",
    "    return VLTpupil"
   ]
  },
  {
   "cell_type": "markdown",
   "metadata": {},
   "source": [
    "## Segmented Pupil"
   ]
  },
  {
   "cell_type": "code",
   "execution_count": null,
   "metadata": {
    "collapsed": true
   },
   "outputs": [],
   "source": []
  }
 ],
 "metadata": {
  "kernelspec": {
   "display_name": "Python 3",
   "language": "python",
   "name": "python3"
  },
  "language_info": {
   "codemirror_mode": {
    "name": "ipython",
    "version": 3
   },
   "file_extension": ".py",
   "mimetype": "text/x-python",
   "name": "python",
   "nbconvert_exporter": "python",
   "pygments_lexer": "ipython3",
   "version": "3.4.3"
  }
 },
 "nbformat": 4,
 "nbformat_minor": 0
}
